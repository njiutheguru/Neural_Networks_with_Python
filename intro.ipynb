{
 "cells": [
  {
   "cell_type": "code",
   "execution_count": null,
   "metadata": {},
   "outputs": [],
   "source": [
    "import numpy as np\n",
    "import pandas as pd"
   ]
  },
  {
   "cell_type": "markdown",
   "metadata": {},
   "source": [
    "1. Python 3\n",
    "2. Numpy and Tkinter\n",
    "3. Basic Mathematic notation\n",
    "\n",
    "ML Broad Categories\n",
    "1. Supervised Learning\n",
    "2. Unsupervised Learning\n",
    "3. Reinforcement Learning\n",
    "\n",
    "#### What is a neural network?\n",
    "* A piece of software, a model of the brain capable of reproducing some behaviors of the brain, capable of learning and classifying...\n",
    "#### What a Neural Network is not\n",
    "* A series of if ... then statements\n",
    "* All there is to ml\n",
    "* The only type of classifier\n"
   ]
  },
  {
   "cell_type": "markdown",
   "metadata": {},
   "source": [
    "#### SomeTypes of Neural Networks...\n",
    "1. Hopfield Neural Networks --> have a fully connected architecture.. every neurons send its neurons to all other neurons in teh network..\n",
    "2. FeedForward Neural Network --> A set of inputs, a set of layers of neurons, with signals propagating forward until they reach the output.\n",
    "e.g convolutional neural networks..\n",
    "\n",
    "##### Multilayer perceptron\n",
    "* The best-known feedforward neural network\n",
    "* It consists of neurons organized in layers\n",
    "* Data traverses the network from input to output\n",
    "\n",
    "    1. Input Layer -> The input vector. You don't have to provide neurons at this layer..\n",
    "    2. Hidden Layers -> Composed of interconnected neurons.\n",
    "    2. Output Layer -> output values"
   ]
  },
  {
   "cell_type": "markdown",
   "metadata": {},
   "source": [
    "#### The Brain\n",
    "* it is made of millions of neurons \n",
    "* it's a biological neural network \n",
    "* each neuron perfoms a very modest cognitive function\n",
    "* the combination of these functions results in the brain's mental ability"
   ]
  },
  {
   "cell_type": "markdown",
   "metadata": {},
   "source": [
    "Linear relationship make a neural network learn so easily and hence most of the times, they are inapropriate. To overcome this challenge, we include an activation function.\n",
    "### Activation Functions\n",
    "* Model the desired threshold behavior\n",
    "* Usually constrain output values\n",
    "* Most importantly: provide nonlinearity to the neuron\n",
    "* Enable training by backpropagation\n",
    "\n",
    "##### Popular Activation function\n",
    "1. Binary Step Function\n",
    "* Limits output values between 0 and 1\n",
    "* Outputs are exactly 0 or 1\n",
    "2. Logistic or Sigmoid Function\n",
    "* Limits the output values between 0 and 1\n",
    "* Outputs are real numbers between 0 and 1 <br>\n",
    "g(z) = ${1/(1+e^-z)}$\n",
    "3. Hperbolic Tangent Function\n",
    "* Limits outputs values between -1 and 1\n",
    "* Outputs are real numbers between -1 and 1\n",
    "f(x) = tanh(x)\n",
    "4. Rectified Linear Unit Function (RELU)\n",
    "* Limits ouputs to positive values\n",
    "* It's unbounded for positive values <br>\n",
    "f(x) = 0, for x < 0 <br>\n",
    "x, for x >= 0\n",
    " \n",
    "\n"
   ]
  },
  {
   "cell_type": "markdown",
   "metadata": {},
   "source": [
    "### Perceptrons: A Better MOdel of a Neuron\n",
    "#### Interpreting the Outputs\n"
   ]
  },
  {
   "cell_type": "code",
   "execution_count": null,
   "metadata": {},
   "outputs": [],
   "source": []
  }
 ],
 "metadata": {
  "language_info": {
   "name": "python"
  },
  "orig_nbformat": 4
 },
 "nbformat": 4,
 "nbformat_minor": 2
}
