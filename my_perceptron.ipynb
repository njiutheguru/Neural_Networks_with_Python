{
 "cells": [
  {
   "cell_type": "code",
   "execution_count": null,
   "metadata": {},
   "outputs": [],
   "source": [
    "import numpy as np"
   ]
  },
  {
   "cell_type": "code",
   "execution_count": null,
   "metadata": {},
   "outputs": [],
   "source": [
    "class Perceptron:\n",
    "    \"\"\"\n",
    "    A single neuron with the sigmoid activation function. \n",
    "    Attributes:\n",
    "        inputs: The number of inputs in the perceptron, not counting the bias.\n",
    "        bias: The bias term. By default it's 1.0\n",
    "    \"\"\"\n",
    "\n",
    "    def __init__(self, inputs, bias = 1.0):\n",
    "        \"\"\"\n",
    "        \"Return a new Perceptron object the specified number of inputs\n",
    "        \"\"\"\n",
    "        self.weights = (np.random.rand(inputs+1) * 2) -1\n",
    "        self.bias = bias\n",
    "\n",
    "    def run(self, x):\n",
    "        \"\"\"Run teh perceptron. x is a python list with the input values\"\"\"\n",
    "        x_sum = np.dot(np.append(x, self.bias), self.weights)\n",
    "        return self.sigmoid(x_sum)\n",
    "    \n",
    "\n",
    "    def set_weights(self, w_init):\n",
    "        \"\"\" Set teh weights. w_init is a python list with the weights\"\"\"\n",
    "        self.weights = np.array(w_init)\n",
    "\n",
    "    def sigmoid(self, x):\n",
    "        \"\"\"Evaluate the sigmoid function for the floating point input x\"\"\"\n",
    "        return 1/(1+np.exp(-x))\n",
    "    "
   ]
  },
  {
   "cell_type": "code",
   "execution_count": null,
   "metadata": {},
   "outputs": [],
   "source": [
    "# Test the code\n",
    "neuron = Perceptron(inputs=2)\n",
    "neuron.set_weights([10,10,-15]) # AND\n",
    "\n",
    "print(\"GATE:\")\n",
    "print(\"0 0 = {0:.10f}\".format(neuron.run([0,0])))\n",
    "print(\"0 1 = {0:.10f}\".format(neuron.run([0,1])))\n",
    "print(\"1 0 = {0:.10f}\".format(neuron.run([1,0])))\n",
    "print(\"1 1 = {0:.10f}\".format(neuron.run([1,1])))"
   ]
  },
  {
   "cell_type": "code",
   "execution_count": null,
   "metadata": {},
   "outputs": [],
   "source": [
    "neuron = Perceptron(inputs=2)\n",
    "neuron.set_weights([15,15,-10]) # OR GATE\n",
    "\n",
    "print(\"GATE:\")\n",
    "print(\"0 0 = {0:.10f}\".format(neuron.run([0,0])))\n",
    "print(\"0 1 = {0:.10f}\".format(neuron.run([0,1])))\n",
    "print(\"1 0 = {0:.10f}\".format(neuron.run([1,0])))\n",
    "print(\"1 1 = {0:.10f}\".format(neuron.run([1,1])))"
   ]
  }
 ],
 "metadata": {
  "language_info": {
   "name": "python"
  },
  "orig_nbformat": 4
 },
 "nbformat": 4,
 "nbformat_minor": 2
}
